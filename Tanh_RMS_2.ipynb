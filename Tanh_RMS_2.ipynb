{
  "nbformat": 4,
  "nbformat_minor": 0,
  "metadata": {
    "colab": {
      "name": "Tanh_RMS_2.ipynb",
      "version": "0.3.2",
      "provenance": [],
      "collapsed_sections": [],
      "toc_visible": true
    },
    "kernelspec": {
      "name": "python3",
      "display_name": "Python 3"
    },
    "accelerator": "GPU"
  },
  "cells": [
    {
      "cell_type": "code",
      "metadata": {
        "id": "Z-r_tI-3IhsP",
        "colab_type": "code",
        "colab": {}
      },
      "source": [
        "import matplotlib.pyplot as plt\n",
        "import numpy as np\n",
        "import tensorflow as tf\n",
        "\n",
        "np.set_printoptions(suppress=True)"
      ],
      "execution_count": 0,
      "outputs": []
    },
    {
      "cell_type": "code",
      "metadata": {
        "id": "MStfdRpzGiPv",
        "colab_type": "code",
        "colab": {}
      },
      "source": [
        "from numpy.random import seed\n",
        "seed(1)\n",
        "from tensorflow import set_random_seed\n",
        "set_random_seed(2)"
      ],
      "execution_count": 0,
      "outputs": []
    },
    {
      "cell_type": "markdown",
      "metadata": {
        "id": "UuF0n9ZQFyH2",
        "colab_type": "text"
      },
      "source": [
        "## Load the cifar dataset"
      ]
    },
    {
      "cell_type": "code",
      "metadata": {
        "id": "jNeH_uKFIled",
        "colab_type": "code",
        "colab": {}
      },
      "source": [
        "#download data\n",
        "(x_train, y_train),(x_test, y_test) = tf.keras.datasets.cifar10.load_data()\n",
        "\n",
        "#labels=['airplane','automobile','bird','cat','deer','dog','frog','horse','ship','truck']\n",
        "\n",
        "#labels 0,1,8,9 --->  Transport\n",
        "#labels 2,3,4,5,6,7 ----> Animals\n",
        "#For training data combine the 10 classes to two classes,0 for transport and 1 for animals\n",
        "y_train[np.where(np.isin(y_train,[0,1,8,9]))] = 0\n",
        "y_train[np.where(np.isin(y_train,[2,3,4,5,6,7]))] = 1\n",
        "\n",
        "#two classes labels\n",
        "labels = ['Transport','Animal']\n",
        "#df1=pd.DataFrame(y_train, columns=['X'])\n",
        "#df1.X.value_counts()\n",
        "\n",
        "#For test data combine the 10 classes to two classes,0 for transport and 1 for animals\n",
        "y_test[np.where(np.isin(y_test,[0,1,8,9]))] = 0\n",
        "y_test[np.where(np.isin(y_test,[2,3,4,5,6,7]))] = 1"
      ],
      "execution_count": 0,
      "outputs": []
    },
    {
      "cell_type": "code",
      "metadata": {
        "id": "3Ay7kpYuz4XL",
        "colab_type": "code",
        "outputId": "42ec5d55-8b0a-413c-b1d9-762cb319a78f",
        "colab": {
          "base_uri": "https://localhost:8080/",
          "height": 34
        }
      },
      "source": [
        "!pip install tensorboardcolab"
      ],
      "execution_count": 4,
      "outputs": [
        {
          "output_type": "stream",
          "text": [
            "Requirement already satisfied: tensorboardcolab in /usr/local/lib/python3.6/dist-packages (0.0.22)\n"
          ],
          "name": "stdout"
        }
      ]
    },
    {
      "cell_type": "code",
      "metadata": {
        "id": "UMQSEsBkz930",
        "colab_type": "code",
        "outputId": "f38bb30e-c3ad-4282-a45f-9372675931b2",
        "colab": {
          "base_uri": "https://localhost:8080/",
          "height": 34
        }
      },
      "source": [
        "import tensorboardcolab"
      ],
      "execution_count": 5,
      "outputs": [
        {
          "output_type": "stream",
          "text": [
            "Using TensorFlow backend.\n"
          ],
          "name": "stderr"
        }
      ]
    },
    {
      "cell_type": "code",
      "metadata": {
        "id": "UWQdg5Qpz-lC",
        "colab_type": "code",
        "outputId": "4dedc7d3-1ed5-4608-91ea-4163d77e07ef",
        "colab": {
          "base_uri": "https://localhost:8080/",
          "height": 138
        }
      },
      "source": [
        "tbc = tensorboardcolab.TensorBoardColab()\n",
        "\n",
        "writer = tbc.get_writer()"
      ],
      "execution_count": 6,
      "outputs": [
        {
          "output_type": "stream",
          "text": [
            "Wait for 8 seconds...\n"
          ],
          "name": "stdout"
        },
        {
          "output_type": "stream",
          "text": [
            "WARNING: Logging before flag parsing goes to stderr.\n",
            "W0721 01:14:24.794688 140637036910464 deprecation_wrapper.py:119] From /usr/local/lib/python3.6/dist-packages/tensorboardcolab/core.py:49: The name tf.summary.FileWriter is deprecated. Please use tf.compat.v1.summary.FileWriter instead.\n",
            "\n"
          ],
          "name": "stderr"
        },
        {
          "output_type": "stream",
          "text": [
            "TensorBoard link:\n",
            "https://e12256de.ngrok.io\n"
          ],
          "name": "stdout"
        }
      ]
    },
    {
      "cell_type": "markdown",
      "metadata": {
        "id": "Bk9Q8IcPGCbO",
        "colab_type": "text"
      },
      "source": [
        "## Normalize the inputs and reshape the labels"
      ]
    },
    {
      "cell_type": "code",
      "metadata": {
        "id": "1ptMZDWdInrO",
        "colab_type": "code",
        "colab": {}
      },
      "source": [
        "#reshape training labels to one-hot coding\n",
        "y_input = tf.keras.utils.to_categorical(y_train[:40000])\n",
        "\n",
        "#normalise the training data\n",
        "x_input = (x_train[:40000]  / 255.0)\n",
        "\n",
        "#subset validatuon data and reshape validation labels to one-hot coding\n",
        "y_valid = tf.keras.utils.to_categorical(y_train[40000:])\n",
        "x_valid = (x_train[40000:] / 255.0)\n",
        "\n",
        "#reshape test data\n",
        "x_test_input = x_test / 255.0\n",
        "\n"
      ],
      "execution_count": 0,
      "outputs": []
    },
    {
      "cell_type": "code",
      "metadata": {
        "id": "9AEbrUqGajLb",
        "colab_type": "code",
        "colab": {}
      },
      "source": [
        "#generate data batches\n",
        "data_index = 0\n",
        "def generate_batch(batch_size):\n",
        "    global data_index\n",
        "    batch = np.ndarray(shape=(batch_size, 32, 32, 3), dtype=np.float32)  #the same shapes as train data\n",
        "    labels = np.ndarray(shape=(batch_size,2), dtype=np.float32)\n",
        "    for i in range(batch_size):\n",
        "        batch[i] = x_input[data_index]\n",
        "        labels[i] = y_input[data_index]\n",
        "        data_index = (data_index + 1) % len(x_input)\n",
        "    return batch, labels"
      ],
      "execution_count": 0,
      "outputs": []
    },
    {
      "cell_type": "markdown",
      "metadata": {
        "id": "YuUztoudGPfP",
        "colab_type": "text"
      },
      "source": [
        "## Create the placeholders"
      ]
    },
    {
      "cell_type": "code",
      "metadata": {
        "id": "e5V3BRCWIp6k",
        "colab_type": "code",
        "colab": {}
      },
      "source": [
        "#start_lr = 1e-10\n",
        "x = tf.placeholder(tf.float32, shape=[None, 32, 32, 3])\n",
        "y_ = tf.placeholder(tf.float32, shape=[None, 2])\n"
      ],
      "execution_count": 0,
      "outputs": []
    },
    {
      "cell_type": "markdown",
      "metadata": {
        "id": "bp_HciV2GVLG",
        "colab_type": "text"
      },
      "source": [
        "## Now we'll build the convolutional layer"
      ]
    },
    {
      "cell_type": "code",
      "metadata": {
        "id": "-z90d3mTIsAO",
        "colab_type": "code",
        "outputId": "c1b26775-6046-4769-a57c-71493dc715a1",
        "colab": {
          "base_uri": "https://localhost:8080/",
          "height": 87
        }
      },
      "source": [
        "# input Layer\n",
        "\n",
        "conv_layer = tf.keras.layers.Conv2D(filters=16, kernel_size=(3,3),activation=tf.nn.relu)(x)\n",
        "\n",
        "flat_layer = tf.keras.layers.Flatten()(conv_layer)\n",
        "\n",
        "dense = tf.keras.layers.Dense(units=512, activation=tf.nn.tanh)(flat_layer)\n",
        "\n",
        "# logits Layer\n",
        "y = tf.keras.layers.Dense(units=2,activation=tf.nn.softmax)(dense)"
      ],
      "execution_count": 10,
      "outputs": [
        {
          "output_type": "stream",
          "text": [
            "W0721 01:14:25.755122 140637036910464 deprecation.py:506] From /usr/local/lib/python3.6/dist-packages/tensorflow/python/ops/init_ops.py:1251: calling VarianceScaling.__init__ (from tensorflow.python.ops.init_ops) with dtype is deprecated and will be removed in a future version.\n",
            "Instructions for updating:\n",
            "Call initializer instance with the dtype argument instead of passing it to the constructor\n"
          ],
          "name": "stderr"
        }
      ]
    },
    {
      "cell_type": "markdown",
      "metadata": {
        "id": "7821RL9mGcJL",
        "colab_type": "text"
      },
      "source": [
        "## Create the loss"
      ]
    },
    {
      "cell_type": "code",
      "metadata": {
        "id": "vwwXUY71I7PR",
        "colab_type": "code",
        "colab": {}
      },
      "source": [
        "#crossentropy loss function\n",
        "cost = tf.reduce_mean(-tf.reduce_sum(y_ * tf.log(y), reduction_indices=[1]))"
      ],
      "execution_count": 0,
      "outputs": []
    },
    {
      "cell_type": "markdown",
      "metadata": {
        "id": "WozuwZz8GgS8",
        "colab_type": "text"
      },
      "source": [
        "## Set up the training parameters"
      ]
    },
    {
      "cell_type": "markdown",
      "metadata": {
        "id": "ZjQGVv1tJU95",
        "colab_type": "text"
      },
      "source": [
        ""
      ]
    },
    {
      "cell_type": "code",
      "metadata": {
        "id": "qAvKjNfOI7lm",
        "colab_type": "code",
        "colab": {
          "base_uri": "https://localhost:8080/",
          "height": 87
        },
        "outputId": "44f9640a-62af-41a7-d835-5702a595f2e9"
      },
      "source": [
        "lr = 0.0001\n",
        "gd_train =tf.train.RMSPropOptimizer(lr).minimize(cost)\n",
        "#optimizer= tf.train.AdamOptimizer(lr)\n",
        "#gd_train =optimizer.minimize(cost,global_step=global_step)\n"
      ],
      "execution_count": 12,
      "outputs": [
        {
          "output_type": "stream",
          "text": [
            "W0721 01:14:25.912283 140637036910464 deprecation.py:506] From /usr/local/lib/python3.6/dist-packages/tensorflow/python/training/rmsprop.py:119: calling Ones.__init__ (from tensorflow.python.ops.init_ops) with dtype is deprecated and will be removed in a future version.\n",
            "Instructions for updating:\n",
            "Call initializer instance with the dtype argument instead of passing it to the constructor\n"
          ],
          "name": "stderr"
        }
      ]
    },
    {
      "cell_type": "code",
      "metadata": {
        "id": "IxdPkoeHJVIR",
        "colab_type": "code",
        "colab": {}
      },
      "source": [
        "# define an accuracy assessment operation\n",
        "correct_prediction = tf.equal(tf.argmax(y, 1), tf.argmax(y_, 1))\n",
        "# to calculate the accuracy\n",
        "accuracy = tf.reduce_mean(tf.cast(correct_prediction, \"float\"))"
      ],
      "execution_count": 0,
      "outputs": []
    },
    {
      "cell_type": "code",
      "metadata": {
        "id": "iiE-5V2XoBjt",
        "colab_type": "code",
        "colab": {}
      },
      "source": [
        "sess = tf.Session()\n",
        "writer.add_graph(sess.graph)\n",
        "sess.close()"
      ],
      "execution_count": 0,
      "outputs": []
    },
    {
      "cell_type": "code",
      "metadata": {
        "id": "0L9UjMxEKk29",
        "colab_type": "code",
        "colab": {}
      },
      "source": [
        "\n",
        "#\n",
        "#TensorBoard summary for the validation accuracy\n",
        "val_acc = tf.summary.scalar(name='val_acc', tensor=accuracy)\n",
        "train_acc = tf.summary.scalar(name='train_acc', tensor=accuracy)\n",
        "loss_val = tf.summary.scalar(name='loss_val', tensor=cost)\n",
        "loss_train = tf.summary.scalar(name='loss_train', tensor=cost)\n",
        "#learning_rate = tf.summary.scalar(name=\"learning_rate\",tensor=lr)\n",
        "#tf.summary.scalar(\"current_step\", global_step)\n",
        "#merged = tf.summary.merge_all() \n"
      ],
      "execution_count": 0,
      "outputs": []
    },
    {
      "cell_type": "markdown",
      "metadata": {
        "id": "jLEGv0krGk_i",
        "colab_type": "text"
      },
      "source": [
        "## Create a session and run the training"
      ]
    },
    {
      "cell_type": "code",
      "metadata": {
        "id": "znLTkQ4mI903",
        "colab_type": "code",
        "outputId": "f61ff183-f810-499a-b3e9-1c0877d1eccd",
        "colab": {
          "base_uri": "https://localhost:8080/",
          "height": 437
        }
      },
      "source": [
        "#epochs=1000\n",
        "#batch_size=1024\n",
        "\n",
        "#500 with 4096 is best\n",
        "epochs=250\n",
        "batch_size=128\n",
        "\n",
        "\n",
        "init = tf.global_variables_initializer()\n",
        "sess = tf.Session()\n",
        "\n",
        "sess.run(init)\n",
        "\n",
        "\n",
        "for i in range(epochs):\n",
        "  #global_step = tf.train.get_global_step()\n",
        "  batch_x, batch_y = generate_batch(batch_size)\n",
        "  _,train_loss, train_accuracy = sess.run([gd_train,loss_train,train_acc], feed_dict={x:batch_x, y_:batch_y})\n",
        "      \n",
        "   \n",
        "  val_accuracy,val_loss= sess.run([val_acc,loss_val], feed_dict = { x: x_valid, y_: y_valid})\n",
        "  \n",
        "  #rt= sess.run(learning_rate)\n",
        "  writer.add_summary(train_accuracy,i)\n",
        "  writer.add_summary(val_accuracy,i)\n",
        "  writer.add_summary(val_loss,i)\n",
        "  writer.add_summary(train_loss,i)\n",
        "  #writer.add_summary(rt,i)\n",
        "  #print(sess.run(optimizer._lr))\n",
        "  if i%10 == 0:\n",
        "    print('Training Step:' + str(i) + '  valid_Loss = ' + str(sess.run(cost, {x: x_valid, y_: y_valid})) +  '  train_Loss = ' + str(sess.run(cost, {x: batch_x, y_: batch_y})))\n",
        "    "
      ],
      "execution_count": 16,
      "outputs": [
        {
          "output_type": "stream",
          "text": [
            "Training Step:0  valid_Loss = 0.6993341  train_Loss = 0.70256567\n",
            "Training Step:10  valid_Loss = 0.6917211  train_Loss = 0.69076073\n",
            "Training Step:20  valid_Loss = 0.6815589  train_Loss = 0.70238274\n",
            "Training Step:30  valid_Loss = 0.67096555  train_Loss = 0.6894671\n",
            "Training Step:40  valid_Loss = 0.6577001  train_Loss = 0.67104447\n",
            "Training Step:50  valid_Loss = 0.63754797  train_Loss = 0.60398585\n",
            "Training Step:60  valid_Loss = 0.60696423  train_Loss = 0.6091974\n",
            "Training Step:70  valid_Loss = 0.57176936  train_Loss = 0.5850903\n",
            "Training Step:80  valid_Loss = 0.5531622  train_Loss = 0.52882797\n",
            "Training Step:90  valid_Loss = 0.4970498  train_Loss = 0.4881536\n",
            "Training Step:100  valid_Loss = 0.5821539  train_Loss = 0.5958985\n",
            "Training Step:110  valid_Loss = 0.57201844  train_Loss = 0.5664508\n",
            "Training Step:120  valid_Loss = 0.80079734  train_Loss = 0.80135155\n",
            "Training Step:130  valid_Loss = 0.53107685  train_Loss = 0.58692956\n",
            "Training Step:140  valid_Loss = 0.6094933  train_Loss = 0.48043922\n",
            "Training Step:150  valid_Loss = 0.44661367  train_Loss = 0.46112734\n",
            "Training Step:160  valid_Loss = 0.52938974  train_Loss = 0.53396064\n",
            "Training Step:170  valid_Loss = 0.5800754  train_Loss = 0.65400445\n",
            "Training Step:180  valid_Loss = 0.6978542  train_Loss = 0.6151459\n",
            "Training Step:190  valid_Loss = 0.4395296  train_Loss = 0.45102572\n",
            "Training Step:200  valid_Loss = 0.75053155  train_Loss = 0.7134042\n",
            "Training Step:210  valid_Loss = 0.51958776  train_Loss = 0.4123531\n",
            "Training Step:220  valid_Loss = 0.40397233  train_Loss = 0.33601987\n",
            "Training Step:230  valid_Loss = 0.40939587  train_Loss = 0.47219953\n",
            "Training Step:240  valid_Loss = 0.39080417  train_Loss = 0.42470154\n"
          ],
          "name": "stdout"
        }
      ]
    },
    {
      "cell_type": "code",
      "metadata": {
        "id": "1hPDDdE_JCSV",
        "colab_type": "code",
        "outputId": "4ed7de6d-b8c8-41b8-9b60-52afbe0e26a5",
        "colab": {
          "base_uri": "https://localhost:8080/",
          "height": 50
        }
      },
      "source": [
        "y_prob = sess.run(y, feed_dict={x: x_test_input})\n",
        "\n",
        "print(y_prob.shape)\n",
        "y_pred = np.argmax(y_prob,axis=-1)\n",
        "print('test accuracy: ', np.sum(y_pred==y_test[:,0])/len(y_test))"
      ],
      "execution_count": 17,
      "outputs": [
        {
          "output_type": "stream",
          "text": [
            "(10000, 2)\n",
            "test accuracy:  0.8397\n"
          ],
          "name": "stdout"
        }
      ]
    },
    {
      "cell_type": "code",
      "metadata": {
        "id": "Nw_ybWyQJS5k",
        "colab_type": "code",
        "outputId": "e1d06e96-fa13-4c62-957c-4530d5662900",
        "colab": {
          "base_uri": "https://localhost:8080/",
          "height": 173
        }
      },
      "source": [
        "i=3000\n",
        "\n",
        "label = y_test[i]\n",
        "image = x_test[i]\n",
        "plt.figure(figsize=(2,2))\n",
        "plt.grid(False)\n",
        "plt.title('True: %s, Predicted: %s (%d%% certainty)' % (labels[int(label)],labels[y_prob[i].argmax()],100*y_prob[i,y_prob[i].argmax()]))\n",
        "plt.imshow(image)\n",
        "plt.show()"
      ],
      "execution_count": 18,
      "outputs": [
        {
          "output_type": "display_data",
          "data": {
            "image/png": "[encoded data removed]",
            "text/plain": [
              "<Figure size 144x144 with 1 Axes>"
            ]
          },
          "metadata": {
            "tags": []
          }
        }
      ]
    },
    {
      "cell_type": "code",
      "metadata": {
        "id": "G53kbgpKJV9-",
        "colab_type": "code",
        "colab": {}
      },
      "source": [
        "sess.close()"
      ],
      "execution_count": 0,
      "outputs": []
    }
  ]
}