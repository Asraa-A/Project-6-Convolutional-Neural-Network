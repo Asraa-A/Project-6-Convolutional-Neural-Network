{
  "nbformat": 4,
  "nbformat_minor": 0,
  "metadata": {
    "colab": {
      "name": "RELU_RMS_2.ipynb",
      "version": "0.3.2",
      "provenance": [],
      "collapsed_sections": [],
      "toc_visible": true
    },
    "kernelspec": {
      "name": "python3",
      "display_name": "Python 3"
    },
    "accelerator": "GPU"
  },
  "cells": [
    {
      "cell_type": "code",
      "metadata": {
        "colab_type": "code",
        "id": "VVlrMive9Cg7",
        "colab": {}
      },
      "source": [
        "#Import the necessary libraries\n",
        "import matplotlib.pyplot as plt\n",
        "import numpy as np\n",
        "import tensorflow as tf\n",
        "\n",
        "np.set_printoptions(suppress=True)"
      ],
      "execution_count": 0,
      "outputs": []
    },
    {
      "cell_type": "code",
      "metadata": {
        "colab_type": "code",
        "id": "Sq5wgFae9Cg3",
        "colab": {}
      },
      "source": [
        "#use seed to reproduce the results.\n",
        "from numpy.random import seed\n",
        "seed(1)\n",
        "from tensorflow import set_random_seed\n",
        "set_random_seed(2)"
      ],
      "execution_count": 0,
      "outputs": []
    },
    {
      "cell_type": "markdown",
      "metadata": {
        "colab_type": "text",
        "id": "qBvrGKjV9Cg2"
      },
      "source": [
        "## Load the cifar dataset"
      ]
    },
    {
      "cell_type": "code",
      "metadata": {
        "colab_type": "code",
        "outputId": "79444dca-5b02-4b9c-ea7a-37e69157faa8",
        "id": "gk3ck5XG9Cgr",
        "colab": {
          "base_uri": "https://localhost:8080/",
          "height": 50
        }
      },
      "source": [
        "#download data\n",
        "(x_train, y_train),(x_test, y_test) = tf.keras.datasets.cifar10.load_data()\n",
        "\n",
        "#labels=['airplane','automobile','bird','cat','deer','dog','frog','horse','ship','truck']\n",
        "\n",
        "#labels 0,1,8,9 --->  Transport\n",
        "#labels 2,3,4,5,6,7 ----> Animals\n",
        "#For training data combine the 10 classes to two classes,0 for transport and 1 for animals\n",
        "\n",
        "y_train[np.where(np.isin(y_train,[0,1,8,9]))] = 0\n",
        "y_train[np.where(np.isin(y_train,[2,3,4,5,6,7]))] = 1\n",
        "\n",
        "#two classes labels\n",
        "labels = ['Transport','Animal']\n",
        "\n",
        "\n",
        "#For test data combine the 10 classes to two classes,0 for transport and 1 for animals\n",
        "y_test[np.where(np.isin(y_test,[0,1,8,9]))] = 0\n",
        "y_test[np.where(np.isin(y_test,[2,3,4,5,6,7]))] = 1"
      ],
      "execution_count": 3,
      "outputs": [
        {
          "output_type": "stream",
          "text": [
            "Downloading data from https://www.cs.toronto.edu/~kriz/cifar-10-python.tar.gz\n",
            "170500096/170498071 [==============================] - 9s 0us/step\n"
          ],
          "name": "stdout"
        }
      ]
    },
    {
      "cell_type": "code",
      "metadata": {
        "colab_type": "code",
        "outputId": "018fd09d-9cb0-492b-9d66-cf3bfd7e8969",
        "id": "jdxDPzv79Cgd",
        "colab": {
          "base_uri": "https://localhost:8080/",
          "height": 34
        }
      },
      "source": [
        "#Install the library for using tensorboard in the colab environment\n",
        "!pip install tensorboardcolab"
      ],
      "execution_count": 4,
      "outputs": [
        {
          "output_type": "stream",
          "text": [
            "Requirement already satisfied: tensorboardcolab in /usr/local/lib/python3.6/dist-packages (0.0.22)\n"
          ],
          "name": "stdout"
        }
      ]
    },
    {
      "cell_type": "code",
      "metadata": {
        "colab_type": "code",
        "outputId": "5e744af0-52f2-4cfe-8acd-ccf67a972392",
        "id": "RzS9PtZn9CgH",
        "colab": {
          "base_uri": "https://localhost:8080/",
          "height": 34
        }
      },
      "source": [
        "#Load the library and create a writer that will output information for tensorboard\n",
        "import tensorboardcolab"
      ],
      "execution_count": 5,
      "outputs": [
        {
          "output_type": "stream",
          "text": [
            "Using TensorFlow backend.\n"
          ],
          "name": "stderr"
        }
      ]
    },
    {
      "cell_type": "code",
      "metadata": {
        "colab_type": "code",
        "outputId": "ac9b2f86-a7ad-4e8d-b93f-b983cdde4773",
        "id": "QfWoQquW9Cfp",
        "colab": {
          "base_uri": "https://localhost:8080/",
          "height": 138
        }
      },
      "source": [
        "tbc = tensorboardcolab.TensorBoardColab()\n",
        "\n",
        "writer = tbc.get_writer()"
      ],
      "execution_count": 6,
      "outputs": [
        {
          "output_type": "stream",
          "text": [
            "Wait for 8 seconds...\n"
          ],
          "name": "stdout"
        },
        {
          "output_type": "stream",
          "text": [
            "WARNING: Logging before flag parsing goes to stderr.\n",
            "W0721 02:15:05.127980 140195723564928 deprecation_wrapper.py:119] From /usr/local/lib/python3.6/dist-packages/tensorboardcolab/core.py:49: The name tf.summary.FileWriter is deprecated. Please use tf.compat.v1.summary.FileWriter instead.\n",
            "\n"
          ],
          "name": "stderr"
        },
        {
          "output_type": "stream",
          "text": [
            "TensorBoard link:\n",
            "https://04e3f5c7.ngrok.io\n"
          ],
          "name": "stdout"
        }
      ]
    },
    {
      "cell_type": "markdown",
      "metadata": {
        "colab_type": "text",
        "id": "OkwCk5Pv9Cfm"
      },
      "source": [
        "## Normalize the inputs and reshape the labels"
      ]
    },
    {
      "cell_type": "code",
      "metadata": {
        "colab_type": "code",
        "id": "FN0hdeIr9Cfe",
        "colab": {}
      },
      "source": [
        "#reshape training labels to one-hot coding\n",
        "y_input = tf.keras.utils.to_categorical(y_train[:40000])\n",
        "\n",
        "#normalise the training data\n",
        "x_input = (x_train[:40000]  / 255.0)\n",
        "\n",
        "#subset validatuon data and reshape validation labels to one-hot coding\n",
        "y_valid = tf.keras.utils.to_categorical(y_train[40000:])\n",
        "x_valid = (x_train[40000:] / 255.0)\n",
        "\n",
        "#reshape test data\n",
        "x_test_input = x_test / 255.0"
      ],
      "execution_count": 0,
      "outputs": []
    },
    {
      "cell_type": "code",
      "metadata": {
        "colab_type": "code",
        "id": "D9xJpHHz9CfT",
        "colab": {}
      },
      "source": [
        "#function to divide the data into batches for training\n",
        "data_index = 0\n",
        "def generate_batch(batch_size):\n",
        "    global data_index\n",
        "    batch = np.ndarray(shape=(batch_size, 32, 32, 3), dtype=np.float32)  #the same shapes as train data\n",
        "    labels = np.ndarray(shape=(batch_size,2), dtype=np.float32)\n",
        "    for i in range(batch_size):\n",
        "        batch[i] = x_input[data_index]\n",
        "        labels[i] = y_input[data_index]\n",
        "        data_index = (data_index + 1) % len(x_input)\n",
        "    return batch, labels"
      ],
      "execution_count": 0,
      "outputs": []
    },
    {
      "cell_type": "markdown",
      "metadata": {
        "colab_type": "text",
        "id": "oqXuG1qf9CfS"
      },
      "source": [
        "## Create the placeholders"
      ]
    },
    {
      "cell_type": "code",
      "metadata": {
        "colab_type": "code",
        "id": "l8P--1dP9CfK",
        "colab": {}
      },
      "source": [
        "#Create placeholders for data input for the model.\n",
        "x = tf.placeholder(tf.float32, shape=[None, 32, 32, 3])\n",
        "y_ = tf.placeholder(tf.float32, shape=[None, 2])"
      ],
      "execution_count": 0,
      "outputs": []
    },
    {
      "cell_type": "markdown",
      "metadata": {
        "colab_type": "text",
        "id": "I6io9ysM9CfH"
      },
      "source": [
        "## Now we'll build the convolutional layer"
      ]
    },
    {
      "cell_type": "code",
      "metadata": {
        "colab_type": "code",
        "outputId": "4fc6dab9-c7b4-4784-d3bf-1ba11519d740",
        "id": "gSmrSKXt9Ce7",
        "colab": {
          "base_uri": "https://localhost:8080/",
          "height": 87
        }
      },
      "source": [
        "# input Layer\n",
        "conv_layer = tf.keras.layers.Conv2D(filters=16, kernel_size=(3,3),activation=tf.nn.relu)(x)\n",
        "\n",
        "#Flatten layer\n",
        "\n",
        "flat_layer = tf.keras.layers.Flatten()(conv_layer)\n",
        "\n",
        "#Fully connected layer\n",
        "dense = tf.keras.layers.Dense(units=512, activation=tf.nn.relu)(flat_layer)\n",
        "\n",
        "# output layer using softmax activation function\n",
        "y = tf.keras.layers.Dense(units=2,activation=tf.nn.softmax)(dense)"
      ],
      "execution_count": 10,
      "outputs": [
        {
          "output_type": "stream",
          "text": [
            "W0721 02:15:06.111065 140195723564928 deprecation.py:506] From /usr/local/lib/python3.6/dist-packages/tensorflow/python/ops/init_ops.py:1251: calling VarianceScaling.__init__ (from tensorflow.python.ops.init_ops) with dtype is deprecated and will be removed in a future version.\n",
            "Instructions for updating:\n",
            "Call initializer instance with the dtype argument instead of passing it to the constructor\n"
          ],
          "name": "stderr"
        }
      ]
    },
    {
      "cell_type": "markdown",
      "metadata": {
        "colab_type": "text",
        "id": "QDorRGcA9Ce2"
      },
      "source": [
        "## Create the loss"
      ]
    },
    {
      "cell_type": "code",
      "metadata": {
        "colab_type": "code",
        "id": "v5f1fGvo9Cex",
        "colab": {}
      },
      "source": [
        "#crossentropy loss function tensor\n",
        "cost = tf.reduce_mean(-tf.reduce_sum(y_ * tf.log(y), reduction_indices=[1]))"
      ],
      "execution_count": 0,
      "outputs": []
    },
    {
      "cell_type": "markdown",
      "metadata": {
        "colab_type": "text",
        "id": "W22ZJP339Ceu"
      },
      "source": [
        "## Set up the training parameters"
      ]
    },
    {
      "cell_type": "markdown",
      "metadata": {
        "colab_type": "text",
        "id": "iVnQiALl9Cet"
      },
      "source": [
        ""
      ]
    },
    {
      "cell_type": "code",
      "metadata": {
        "colab_type": "code",
        "outputId": "8f79658b-935d-4e9f-c1bd-a6944d2f9551",
        "id": "-YSHU-gz9Cek",
        "colab": {
          "base_uri": "https://localhost:8080/",
          "height": 87
        }
      },
      "source": [
        "#Initial Learnin rate\n",
        "#lr = 0.0001\n",
        "#optimized learning rate\n",
        "lr=7.3863e-4\n",
        "#using RMSProp optimizer to optimize the loss function\n",
        "gd_train =tf.train.RMSPropOptimizer(lr).minimize(cost)"
      ],
      "execution_count": 12,
      "outputs": [
        {
          "output_type": "stream",
          "text": [
            "W0721 02:15:06.295363 140195723564928 deprecation.py:506] From /usr/local/lib/python3.6/dist-packages/tensorflow/python/training/rmsprop.py:119: calling Ones.__init__ (from tensorflow.python.ops.init_ops) with dtype is deprecated and will be removed in a future version.\n",
            "Instructions for updating:\n",
            "Call initializer instance with the dtype argument instead of passing it to the constructor\n"
          ],
          "name": "stderr"
        }
      ]
    },
    {
      "cell_type": "code",
      "metadata": {
        "colab_type": "code",
        "id": "9QOHDs_n9Cee",
        "colab": {}
      },
      "source": [
        "# define an accuracy assessment operation\n",
        "correct_prediction = tf.equal(tf.argmax(y, 1), tf.argmax(y_, 1))\n",
        "# to calculate the accuracy\n",
        "accuracy = tf.reduce_mean(tf.cast(correct_prediction, \"float\"))# define an accuracy assessment operation\n",
        "correct_prediction = tf.equal(tf.argmax(y, 1), tf.argmax(y_, 1))\n",
        "# to calculate the accuracy\n",
        "accuracy = tf.reduce_mean(tf.cast(correct_prediction, \"float\"))"
      ],
      "execution_count": 0,
      "outputs": []
    },
    {
      "cell_type": "code",
      "metadata": {
        "colab_type": "code",
        "id": "y4iBhIMZ9CeY",
        "colab": {}
      },
      "source": [
        "#Write out the graph to tensorboard\n",
        "sess = tf.Session()\n",
        "writer.add_graph(sess.graph)\n",
        "sess.close()"
      ],
      "execution_count": 0,
      "outputs": []
    },
    {
      "cell_type": "code",
      "metadata": {
        "colab_type": "code",
        "id": "cmZa9Iuk9CeT",
        "colab": {}
      },
      "source": [
        "#we'll look at training/validation accuracy and training/validation loss as it changes during training\n",
        "#TensorBoard summary for the validation accuracy\n",
        "val_acc = tf.summary.scalar(name='val_acc', tensor=accuracy)\n",
        "\n",
        "#TensorBoard summary for the train accuracy\n",
        "train_acc = tf.summary.scalar(name='train_acc', tensor=accuracy)\n",
        "\n",
        "#TensorBoard summary for the validation loss\n",
        "loss_val = tf.summary.scalar(name='loss_val', tensor=cost)\n",
        "\n",
        "#TensorBoard summary for the train loss\n",
        "loss_train = tf.summary.scalar(name='loss_train', tensor=cost)\n"
      ],
      "execution_count": 0,
      "outputs": []
    },
    {
      "cell_type": "markdown",
      "metadata": {
        "colab_type": "text",
        "id": "YDL4buFV9CeS"
      },
      "source": [
        "## Create a session and run the training"
      ]
    },
    {
      "cell_type": "code",
      "metadata": {
        "colab_type": "code",
        "outputId": "b10d9783-b445-45e2-ffed-0b2b342570d5",
        "id": "d0UpdaO19CeJ",
        "colab": {
          "base_uri": "https://localhost:8080/",
          "height": 118
        }
      },
      "source": [
        "#epochs=1000\n",
        "#batch_size=512\n",
        "\n",
        "#Number of epochs and batch size\n",
        "epochs=600\n",
        "batch_size=128\n",
        "\n",
        "#Global variables initializer\n",
        "init = tf.global_variables_initializer()\n",
        "\n",
        "#Starting the Tensorflow session\n",
        "sess = tf.Session()\n",
        "\n",
        "#Initializing the Variables\n",
        "sess.run(init)\n",
        "\n",
        "#Iterating through all the epochs\n",
        "for i in range(epochs):\n",
        "  \n",
        "  # generate data batches\n",
        "  batch_x, batch_y = generate_batch(batch_size)\n",
        "  \n",
        "  #Feeding data into optimizer and calculate the training loss function and training accuracy\n",
        "  _,train_loss, train_accuracy = sess.run([gd_train,loss_train,train_acc], feed_dict={x:batch_x, y_:batch_y})\n",
        "  \n",
        "      \n",
        "  #Feeding data into optimizer and calculate the validation loss function and validation accuracy\n",
        "  val_accuracy,val_loss= sess.run([val_acc,loss_val], feed_dict = { x: x_valid, y_: y_valid})\n",
        "  \n",
        "  #\n",
        "  writer.add_summary(train_accuracy,i)\n",
        "  writer.add_summary(val_accuracy,i)\n",
        "  writer.add_summary(val_loss,i)\n",
        "  writer.add_summary(train_loss,i)\n",
        "\n",
        "  if i%100 == 0:\n",
        "    print('Training Step:' + str(i) + '  valid_Loss = ' + str(sess.run(cost, {x: x_valid, y_: y_valid})) +  '  train_Loss = ' + str(sess.run(cost, {x: batch_x, y_: batch_y})))\n",
        "    "
      ],
      "execution_count": 16,
      "outputs": [
        {
          "output_type": "stream",
          "text": [
            "Training Step:0  valid_Loss = 0.6851043  train_Loss = 0.6914855\n",
            "Training Step:100  valid_Loss = 0.4590406  train_Loss = 0.4124131\n",
            "Training Step:200  valid_Loss = 0.37630063  train_Loss = 0.3414847\n",
            "Training Step:300  valid_Loss = 0.33086035  train_Loss = 0.28284708\n",
            "Training Step:400  valid_Loss = 0.30381945  train_Loss = 0.20380403\n",
            "Training Step:500  valid_Loss = 0.27984872  train_Loss = 0.17448166\n"
          ],
          "name": "stdout"
        }
      ]
    },
    {
      "cell_type": "code",
      "metadata": {
        "colab_type": "code",
        "outputId": "6f02a59f-fbb3-4556-97e5-174c86277be3",
        "id": "lW3h00sY9Cd-",
        "colab": {
          "base_uri": "https://localhost:8080/",
          "height": 34
        }
      },
      "source": [
        "#calculate test data accuracy and print it\n",
        "y_prob = sess.run(y, feed_dict={x: x_test_input})\n",
        "y_pred = np.argmax(y_prob,axis=-1)\n",
        "print('test accuracy: ', np.sum(y_pred==y_test[:,0])/len(y_test))"
      ],
      "execution_count": 17,
      "outputs": [
        {
          "output_type": "stream",
          "text": [
            "test accuracy:  0.9005\n"
          ],
          "name": "stdout"
        }
      ]
    },
    {
      "cell_type": "code",
      "metadata": {
        "colab_type": "code",
        "outputId": "3ade5bfe-c532-4c90-f975-97604eb156fb",
        "id": "LdUowymP9Cdc",
        "colab": {
          "base_uri": "https://localhost:8080/",
          "height": 173
        }
      },
      "source": [
        "#Testing a single image\n",
        "i=3000\n",
        "\n",
        "label = y_test[i]\n",
        "image = x_test[i]\n",
        "plt.figure(figsize=(2,2))\n",
        "plt.grid(False)\n",
        "plt.title('True: %s, Predicted: %s (%d%% certainty)' % (labels[int(label)],labels[y_prob[i].argmax()],100*y_prob[i,y_prob[i].argmax()]))\n",
        "plt.imshow(image)\n",
        "plt.show()"
      ],
      "execution_count": 18,
      "outputs": [
        {
          "output_type": "display_data",
          "data": {
            "image/png": "[encoded data removed]",
            "text/plain": [
              "<Figure size 144x144 with 1 Axes>"
            ]
          },
          "metadata": {
            "tags": []
          }
        }
      ]
    },
    {
      "cell_type": "code",
      "metadata": {
        "colab_type": "code",
        "id": "9g-ejjj-9Cc-",
        "colab": {}
      },
      "source": [
        "sess.close()"
      ],
      "execution_count": 0,
      "outputs": []
    }
  ]
}