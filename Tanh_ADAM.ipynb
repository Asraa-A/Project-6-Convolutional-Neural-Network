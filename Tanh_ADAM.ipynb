{
  "nbformat": 4,
  "nbformat_minor": 0,
  "metadata": {
    "colab": {
      "name": "Tanh_ADAM.ipynb",
      "version": "0.3.2",
      "provenance": [],
      "collapsed_sections": [],
      "toc_visible": true
    },
    "kernelspec": {
      "name": "python3",
      "display_name": "Python 3"
    },
    "accelerator": "GPU"
  },
  "cells": [
    {
      "cell_type": "code",
      "metadata": {
        "id": "Z-r_tI-3IhsP",
        "colab_type": "code",
        "colab": {}
      },
      "source": [
        "#Import the necessary libraries\n",
        "import matplotlib.pyplot as plt\n",
        "import numpy as np\n",
        "import tensorflow as tf\n",
        "\n",
        "np.set_printoptions(suppress=True)"
      ],
      "execution_count": 0,
      "outputs": []
    },
    {
      "cell_type": "code",
      "metadata": {
        "id": "QhAwxqQtaq7K",
        "colab_type": "code",
        "colab": {}
      },
      "source": [
        "#use seed to reproduce the results.\n",
        "from numpy.random import seed\n",
        "seed(1)\n",
        "from tensorflow import set_random_seed\n",
        "set_random_seed(2)"
      ],
      "execution_count": 0,
      "outputs": []
    },
    {
      "cell_type": "markdown",
      "metadata": {
        "id": "UuF0n9ZQFyH2",
        "colab_type": "text"
      },
      "source": [
        "## Load the cifar dataset"
      ]
    },
    {
      "cell_type": "code",
      "metadata": {
        "id": "jNeH_uKFIled",
        "colab_type": "code",
        "outputId": "feb595ef-1db0-4107-9184-72ebcec8ec46",
        "colab": {
          "base_uri": "https://localhost:8080/",
          "height": 50
        }
      },
      "source": [
        "#download data\n",
        "(x_train, y_train),(x_test, y_test) = tf.keras.datasets.cifar10.load_data()\n",
        "\n",
        "#labels=['airplane','automobile','bird','cat','deer','dog','frog','horse','ship','truck']\n",
        "\n",
        "#labels 0,1,8,9 --->  Transport\n",
        "#labels 2,3,4,5,6,7 ----> Animals\n",
        "#For training data combine the 10 classes to two classes,0 for transport and 1 for animals\n",
        "\n",
        "y_train[np.where(np.isin(y_train,[0,1,8,9]))] = 0\n",
        "y_train[np.where(np.isin(y_train,[2,3,4,5,6,7]))] = 1\n",
        "\n",
        "#two classes labels\n",
        "labels = ['Transport','Animal']\n",
        "\n",
        "\n",
        "#For test data combine the 10 classes to two classes,0 for transport and 1 for animals\n",
        "y_test[np.where(np.isin(y_test,[0,1,8,9]))] = 0\n",
        "y_test[np.where(np.isin(y_test,[2,3,4,5,6,7]))] = 1"
      ],
      "execution_count": 3,
      "outputs": [
        {
          "output_type": "stream",
          "text": [
            "Downloading data from https://www.cs.toronto.edu/~kriz/cifar-10-python.tar.gz\n",
            "170500096/170498071 [==============================] - 2s 0us/step\n"
          ],
          "name": "stdout"
        }
      ]
    },
    {
      "cell_type": "markdown",
      "metadata": {
        "id": "hfXWH5Or6Xnf",
        "colab_type": "text"
      },
      "source": [
        "\n",
        "## Load the library and create a writer that will output information for tensorboard"
      ]
    },
    {
      "cell_type": "code",
      "metadata": {
        "id": "3Ay7kpYuz4XL",
        "colab_type": "code",
        "outputId": "6da201f3-0a77-479a-aef4-c113a19b5466",
        "colab": {
          "base_uri": "https://localhost:8080/",
          "height": 34
        }
      },
      "source": [
        "#Install the library for using tensorboard in the colab environment\n",
        "!pip install tensorboardcolab"
      ],
      "execution_count": 4,
      "outputs": [
        {
          "output_type": "stream",
          "text": [
            "Requirement already satisfied: tensorboardcolab in /usr/local/lib/python3.6/dist-packages (0.0.22)\n"
          ],
          "name": "stdout"
        }
      ]
    },
    {
      "cell_type": "code",
      "metadata": {
        "id": "UMQSEsBkz930",
        "colab_type": "code",
        "outputId": "97e29018-bfab-4c43-a4f6-d6e11d373f6f",
        "colab": {
          "base_uri": "https://localhost:8080/",
          "height": 34
        }
      },
      "source": [
        "#Load the library and create a writer that will output information for tensorboard\n",
        "import tensorboardcolab"
      ],
      "execution_count": 5,
      "outputs": [
        {
          "output_type": "stream",
          "text": [
            "Using TensorFlow backend.\n"
          ],
          "name": "stderr"
        }
      ]
    },
    {
      "cell_type": "code",
      "metadata": {
        "id": "UWQdg5Qpz-lC",
        "colab_type": "code",
        "outputId": "e96c4e7c-3880-4ef6-fbca-fb8f77d7c63b",
        "colab": {
          "base_uri": "https://localhost:8080/",
          "height": 138
        }
      },
      "source": [
        "tbc = tensorboardcolab.TensorBoardColab()\n",
        "\n",
        "writer = tbc.get_writer()"
      ],
      "execution_count": 6,
      "outputs": [
        {
          "output_type": "stream",
          "text": [
            "Wait for 8 seconds...\n"
          ],
          "name": "stdout"
        },
        {
          "output_type": "stream",
          "text": [
            "WARNING: Logging before flag parsing goes to stderr.\n",
            "W0720 22:57:31.192485 139637672183680 deprecation_wrapper.py:119] From /usr/local/lib/python3.6/dist-packages/tensorboardcolab/core.py:49: The name tf.summary.FileWriter is deprecated. Please use tf.compat.v1.summary.FileWriter instead.\n",
            "\n"
          ],
          "name": "stderr"
        },
        {
          "output_type": "stream",
          "text": [
            "TensorBoard link:\n",
            "https://c354d781.ngrok.io\n"
          ],
          "name": "stdout"
        }
      ]
    },
    {
      "cell_type": "markdown",
      "metadata": {
        "id": "Bk9Q8IcPGCbO",
        "colab_type": "text"
      },
      "source": [
        "## Normalize the inputs and reshape the labels"
      ]
    },
    {
      "cell_type": "code",
      "metadata": {
        "id": "1ptMZDWdInrO",
        "colab_type": "code",
        "colab": {}
      },
      "source": [
        "#reshape training labels to one-hot coding\n",
        "y_input = tf.keras.utils.to_categorical(y_train[:40000])\n",
        "\n",
        "#normalise the training data\n",
        "x_input = (x_train[:40000]  / 255.0)\n",
        "\n",
        "#subset validatuon data and reshape validation labels to one-hot coding\n",
        "y_valid = tf.keras.utils.to_categorical(y_train[40000:])\n",
        "x_valid = (x_train[40000:] / 255.0)\n",
        "\n",
        "#reshape test data\n",
        "x_test_input = x_test / 255.0\n",
        "\n"
      ],
      "execution_count": 0,
      "outputs": []
    },
    {
      "cell_type": "code",
      "metadata": {
        "id": "9AEbrUqGajLb",
        "colab_type": "code",
        "colab": {}
      },
      "source": [
        "#function to divide the data into batches for training\n",
        "data_index = 0\n",
        "def generate_batch(batch_size):\n",
        "    global data_index\n",
        "    batch = np.ndarray(shape=(batch_size, 32, 32, 3), dtype=np.float32)  #the same shapes as train data\n",
        "    labels = np.ndarray(shape=(batch_size,2), dtype=np.float32)\n",
        "    for i in range(batch_size):\n",
        "        batch[i] = x_input[data_index]\n",
        "        labels[i] = y_input[data_index]\n",
        "        data_index = (data_index + 1) % len(x_input)\n",
        "    return batch, labels"
      ],
      "execution_count": 0,
      "outputs": []
    },
    {
      "cell_type": "markdown",
      "metadata": {
        "id": "YuUztoudGPfP",
        "colab_type": "text"
      },
      "source": [
        "## Create the placeholders"
      ]
    },
    {
      "cell_type": "code",
      "metadata": {
        "id": "e5V3BRCWIp6k",
        "colab_type": "code",
        "colab": {}
      },
      "source": [
        "#Create placeholders for data input for the model.\n",
        "x = tf.placeholder(tf.float32, shape=[None, 32, 32, 3])\n",
        "y_ = tf.placeholder(tf.float32, shape=[None, 2])"
      ],
      "execution_count": 0,
      "outputs": []
    },
    {
      "cell_type": "markdown",
      "metadata": {
        "id": "bp_HciV2GVLG",
        "colab_type": "text"
      },
      "source": [
        "## Now we'll build the convolutional layer"
      ]
    },
    {
      "cell_type": "code",
      "metadata": {
        "id": "-z90d3mTIsAO",
        "colab_type": "code",
        "outputId": "49afad67-c767-4e2d-eccf-b3d1eee0ebad",
        "colab": {
          "base_uri": "https://localhost:8080/",
          "height": 87
        }
      },
      "source": [
        "# input Layer\n",
        "conv_layer = tf.keras.layers.Conv2D(filters=16, kernel_size=(3,3),activation=tf.nn.relu)(x)\n",
        "\n",
        "#Flatten layer\n",
        "\n",
        "flat_layer = tf.keras.layers.Flatten()(conv_layer)\n",
        "\n",
        "#Fully connected layer\n",
        "dense = tf.keras.layers.Dense(units=512, activation=tf.nn.tanh)(flat_layer)\n",
        "\n",
        "# output layer using softmax activation function\n",
        "y = tf.keras.layers.Dense(units=2,activation=tf.nn.softmax)(dense)"
      ],
      "execution_count": 10,
      "outputs": [
        {
          "output_type": "stream",
          "text": [
            "W0720 22:57:32.156351 139637672183680 deprecation.py:506] From /usr/local/lib/python3.6/dist-packages/tensorflow/python/ops/init_ops.py:1251: calling VarianceScaling.__init__ (from tensorflow.python.ops.init_ops) with dtype is deprecated and will be removed in a future version.\n",
            "Instructions for updating:\n",
            "Call initializer instance with the dtype argument instead of passing it to the constructor\n"
          ],
          "name": "stderr"
        }
      ]
    },
    {
      "cell_type": "markdown",
      "metadata": {
        "id": "7821RL9mGcJL",
        "colab_type": "text"
      },
      "source": [
        "## Create the loss"
      ]
    },
    {
      "cell_type": "code",
      "metadata": {
        "id": "vwwXUY71I7PR",
        "colab_type": "code",
        "colab": {}
      },
      "source": [
        "#crossentropy loss function tensor\n",
        "cost = tf.reduce_mean(-tf.reduce_sum(y_ * tf.log(y), reduction_indices=[1]))"
      ],
      "execution_count": 0,
      "outputs": []
    },
    {
      "cell_type": "markdown",
      "metadata": {
        "id": "WozuwZz8GgS8",
        "colab_type": "text"
      },
      "source": [
        "## Set up the training parameters"
      ]
    },
    {
      "cell_type": "markdown",
      "metadata": {
        "id": "ZjQGVv1tJU95",
        "colab_type": "text"
      },
      "source": [
        ""
      ]
    },
    {
      "cell_type": "code",
      "metadata": {
        "id": "qAvKjNfOI7lm",
        "colab_type": "code",
        "colab": {}
      },
      "source": [
        "#Initial Learnin rate\n",
        "lr = 0.0001\n",
        "#using Adam optimizer to optimize the loss function\n",
        "gd_train =tf.train.AdamOptimizer(lr).minimize(cost)\n"
      ],
      "execution_count": 0,
      "outputs": []
    },
    {
      "cell_type": "code",
      "metadata": {
        "id": "IxdPkoeHJVIR",
        "colab_type": "code",
        "colab": {}
      },
      "source": [
        "# define an accuracy assessment operation\n",
        "correct_prediction = tf.equal(tf.argmax(y, 1), tf.argmax(y_, 1))\n",
        "# to calculate the accuracy\n",
        "accuracy = tf.reduce_mean(tf.cast(correct_prediction, \"float\"))"
      ],
      "execution_count": 0,
      "outputs": []
    },
    {
      "cell_type": "code",
      "metadata": {
        "id": "iiE-5V2XoBjt",
        "colab_type": "code",
        "colab": {}
      },
      "source": [
        "#write out the graph to tensorboard\n",
        "sess = tf.Session()\n",
        "writer.add_graph(sess.graph)\n",
        "sess.close()"
      ],
      "execution_count": 0,
      "outputs": []
    },
    {
      "cell_type": "code",
      "metadata": {
        "id": "0L9UjMxEKk29",
        "colab_type": "code",
        "colab": {}
      },
      "source": [
        "#we'll look at training/validation accuracy and training/validation loss as it changes during training\n",
        "#TensorBoard summary for the validation accuracy\n",
        "val_acc = tf.summary.scalar(name='val_acc', tensor=accuracy)\n",
        "\n",
        "#TensorBoard summary for the train accuracy\n",
        "train_acc = tf.summary.scalar(name='train_acc', tensor=accuracy)\n",
        "\n",
        "#TensorBoard summary for the validation loss\n",
        "loss_val = tf.summary.scalar(name='loss_val', tensor=cost)\n",
        "\n",
        "#TensorBoard summary for the train loss\n",
        "loss_train = tf.summary.scalar(name='loss_train', tensor=cost)\n"
      ],
      "execution_count": 0,
      "outputs": []
    },
    {
      "cell_type": "markdown",
      "metadata": {
        "id": "jLEGv0krGk_i",
        "colab_type": "text"
      },
      "source": [
        "## Create a session and run the training"
      ]
    },
    {
      "cell_type": "code",
      "metadata": {
        "id": "znLTkQ4mI903",
        "colab_type": "code",
        "outputId": "55c537f3-e1f9-41f9-d19d-5db37f548325",
        "colab": {
          "base_uri": "https://localhost:8080/",
          "height": 437
        }
      },
      "source": [
        "#epochs=1000\n",
        "#batch_size=512\n",
        "\n",
        "#Number of epochs and batch size\n",
        "epochs=250\n",
        "batch_size=128\n",
        "\n",
        "#Global variables initializer\n",
        "init = tf.global_variables_initializer()\n",
        "\n",
        "#Starting the Tensorflow session\n",
        "sess = tf.Session()\n",
        "\n",
        "#Initializing the Variables\n",
        "sess.run(init)\n",
        "\n",
        "#Iterating through all the epochs\n",
        "for i in range(epochs):\n",
        "  \n",
        "  # generate data batches\n",
        "  batch_x, batch_y = generate_batch(batch_size)\n",
        "  \n",
        "  #Feeding data into optimizer and calculate the training loss function and training accuracy\n",
        "  _,train_loss, train_accuracy = sess.run([gd_train,loss_train,train_acc], feed_dict={x:batch_x, y_:batch_y})\n",
        "  \n",
        "      \n",
        "  #Feeding data into optimizer and calculate the validation loss function and validation accuracy\n",
        "  val_accuracy,val_loss= sess.run([val_acc,loss_val], feed_dict = { x: x_valid, y_: y_valid})\n",
        "  \n",
        "  #\n",
        "  writer.add_summary(train_accuracy,i)\n",
        "  writer.add_summary(val_accuracy,i)\n",
        "  writer.add_summary(val_loss,i)\n",
        "  writer.add_summary(train_loss,i)\n",
        "\n",
        "  if i%10 == 0:\n",
        "    print('Training Step:' + str(i) + '  valid_Loss = ' + str(sess.run(cost, {x: x_valid, y_: y_valid})) +  '  train_Loss = ' + str(sess.run(cost, {x: batch_x, y_: batch_y})))\n",
        "    "
      ],
      "execution_count": 16,
      "outputs": [
        {
          "output_type": "stream",
          "text": [
            "Training Step:0  valid_Loss = 0.984347  train_Loss = 1.0139873\n",
            "Training Step:10  valid_Loss = 0.47301415  train_Loss = 0.42702603\n",
            "Training Step:20  valid_Loss = 0.4735528  train_Loss = 0.48554087\n",
            "Training Step:30  valid_Loss = 0.46841225  train_Loss = 0.6104026\n",
            "Training Step:40  valid_Loss = 0.4234593  train_Loss = 0.519433\n",
            "Training Step:50  valid_Loss = 0.4152832  train_Loss = 0.349752\n",
            "Training Step:60  valid_Loss = 0.41216782  train_Loss = 0.34594965\n",
            "Training Step:70  valid_Loss = 0.40626085  train_Loss = 0.5383918\n",
            "Training Step:80  valid_Loss = 0.39594883  train_Loss = 0.3910206\n",
            "Training Step:90  valid_Loss = 0.38878864  train_Loss = 0.337808\n",
            "Training Step:100  valid_Loss = 0.38464078  train_Loss = 0.3266209\n",
            "Training Step:110  valid_Loss = 0.38107654  train_Loss = 0.37908694\n",
            "Training Step:120  valid_Loss = 0.37352487  train_Loss = 0.33371636\n",
            "Training Step:130  valid_Loss = 0.36979017  train_Loss = 0.37943435\n",
            "Training Step:140  valid_Loss = 0.361901  train_Loss = 0.2878958\n",
            "Training Step:150  valid_Loss = 0.35506916  train_Loss = 0.3360072\n",
            "Training Step:160  valid_Loss = 0.36129236  train_Loss = 0.3997047\n",
            "Training Step:170  valid_Loss = 0.34458378  train_Loss = 0.42197594\n",
            "Training Step:180  valid_Loss = 0.34022853  train_Loss = 0.22612892\n",
            "Training Step:190  valid_Loss = 0.342575  train_Loss = 0.32007474\n",
            "Training Step:200  valid_Loss = 0.33621186  train_Loss = 0.3236313\n",
            "Training Step:210  valid_Loss = 0.33848965  train_Loss = 0.29301625\n",
            "Training Step:220  valid_Loss = 0.32430658  train_Loss = 0.26043063\n",
            "Training Step:230  valid_Loss = 0.32082543  train_Loss = 0.3681241\n",
            "Training Step:240  valid_Loss = 0.34016684  train_Loss = 0.37197563\n"
          ],
          "name": "stdout"
        }
      ]
    },
    {
      "cell_type": "code",
      "metadata": {
        "id": "1hPDDdE_JCSV",
        "colab_type": "code",
        "outputId": "d4ff2260-013a-49d4-bb06-a46abcc9b4fd",
        "colab": {
          "base_uri": "https://localhost:8080/",
          "height": 34
        }
      },
      "source": [
        "#calculate test data accuracy and print it\n",
        "y_prob = sess.run(y, feed_dict={x: x_test_input})\n",
        "y_pred = np.argmax(y_prob,axis=-1)\n",
        "print('test accuracy: ', np.sum(y_pred==y_test[:,0])/len(y_test))"
      ],
      "execution_count": 17,
      "outputs": [
        {
          "output_type": "stream",
          "text": [
            "test accuracy:  0.8715\n"
          ],
          "name": "stdout"
        }
      ]
    },
    {
      "cell_type": "code",
      "metadata": {
        "id": "Nw_ybWyQJS5k",
        "colab_type": "code",
        "outputId": "e49cac84-220a-4663-a2e4-25e4a8f6f394",
        "colab": {
          "base_uri": "https://localhost:8080/",
          "height": 173
        }
      },
      "source": [
        "#Testing a single image\n",
        "i=3000\n",
        "\n",
        "label = y_test[i]\n",
        "image = x_test[i]\n",
        "plt.figure(figsize=(2,2))\n",
        "plt.grid(False)\n",
        "plt.title('True: %s, Predicted: %s (%d%% certainty)' % (labels[int(label)],labels[y_prob[i].argmax()],100*y_prob[i,y_prob[i].argmax()]))\n",
        "plt.imshow(image)\n",
        "plt.show()"
      ],
      "execution_count": 18,
      "outputs": [
        {
          "output_type": "display_data",
          "data": {
            "image/png": "[encoded data removed]",
            "text/plain": [
              "<Figure size 144x144 with 1 Axes>"
            ]
          },
          "metadata": {
            "tags": []
          }
        }
      ]
    },
    {
      "cell_type": "code",
      "metadata": {
        "id": "G53kbgpKJV9-",
        "colab_type": "code",
        "colab": {}
      },
      "source": [
        "sess.close()"
      ],
      "execution_count": 0,
      "outputs": []
    }
  ]
}