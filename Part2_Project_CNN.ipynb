{
  "nbformat": 4,
  "nbformat_minor": 0,
  "metadata": {
    "colab": {
      "name": "Part2_Project_CNN.ipynb",
      "version": "0.3.2",
      "provenance": [],
      "collapsed_sections": []
    },
    "kernelspec": {
      "name": "python3",
      "display_name": "Python 3"
    },
    "accelerator": "GPU"
  },
  "cells": [
    {
      "cell_type": "code",
      "metadata": {
        "colab_type": "code",
        "id": "Z-r_tI-3IhsP",
        "colab": {
          "base_uri": "https://localhost:8080/",
          "height": 34
        },
        "outputId": "7df816e5-6278-4d05-f664-066ccf5494bc"
      },
      "source": [
        "#Import the necessary libraries\n",
        "import pandas as pd\n",
        "import numpy as np\n",
        "import tensorflow as tf\n",
        "from sklearn.model_selection import train_test_split\n",
        "from keras.utils.np_utils import to_categorical\n",
        "from keras.models import Sequential\n",
        "from keras.layers import Dense, Dropout, Flatten, Conv2D, MaxPool2D, AvgPool2D, BatchNormalization, Reshape\n",
        "from keras.preprocessing.image import ImageDataGenerator\n",
        "from keras.callbacks import LearningRateScheduler\n",
        "import matplotlib.pyplot as plt\n",
        "np.set_printoptions(suppress=True)"
      ],
      "execution_count": 2,
      "outputs": [
        {
          "output_type": "stream",
          "text": [
            "Using TensorFlow backend.\n"
          ],
          "name": "stderr"
        }
      ]
    },
    {
      "cell_type": "code",
      "metadata": {
        "id": "6ohewodUkJeC",
        "colab_type": "code",
        "colab": {}
      },
      "source": [
        "#use seed to reproduce the results.\n",
        "from numpy.random import seed\n",
        "seed(1)\n",
        "from tensorflow import set_random_seed\n",
        "set_random_seed(2)"
      ],
      "execution_count": 0,
      "outputs": []
    },
    {
      "cell_type": "markdown",
      "metadata": {
        "colab_type": "text",
        "id": "UuF0n9ZQFyH2"
      },
      "source": [
        "## Load the cifar dataset"
      ]
    },
    {
      "cell_type": "code",
      "metadata": {
        "colab_type": "code",
        "id": "jNeH_uKFIled",
        "colab": {
          "base_uri": "https://localhost:8080/",
          "height": 50
        },
        "outputId": "571410c9-c071-4507-91e5-a68035213d7c"
      },
      "source": [
        "#download data\n",
        "(x_train, y_train),(x_test, y_test) = tf.keras.datasets.cifar10.load_data()\n",
        "\n",
        "#labels=['airplane','automobile','bird','cat','deer','dog','frog','horse','ship','truck']\n",
        "\n",
        "#labels 0,1,8,9 --->  Transport\n",
        "#labels 2,3,4,5,6,7 ----> Animals\n",
        "#For training data combine the 10 classes to two classes,0 for transport and 1 for animals\n",
        "\n",
        "y_train[np.where(np.isin(y_train,[0,1,8,9]))] = 0\n",
        "y_train[np.where(np.isin(y_train,[2,3,4,5,6,7]))] = 1\n",
        "\n",
        "#two classes labels\n",
        "labels = ['Transport','Animal']\n",
        "\n",
        "\n",
        "#For test data combine the 10 classes to two classes,0 for transport and 1 for animals\n",
        "y_test[np.where(np.isin(y_test,[0,1,8,9]))] = 0\n",
        "y_test[np.where(np.isin(y_test,[2,3,4,5,6,7]))] = 1"
      ],
      "execution_count": 3,
      "outputs": [
        {
          "output_type": "stream",
          "text": [
            "Downloading data from https://www.cs.toronto.edu/~kriz/cifar-10-python.tar.gz\n",
            "170500096/170498071 [==============================] - 11s 0us/step\n"
          ],
          "name": "stdout"
        }
      ]
    },
    {
      "cell_type": "markdown",
      "metadata": {
        "colab_type": "text",
        "id": "Bk9Q8IcPGCbO"
      },
      "source": [
        "## Normalize the inputs and reshape the labels"
      ]
    },
    {
      "cell_type": "code",
      "metadata": {
        "colab_type": "code",
        "id": "1ptMZDWdInrO",
        "colab": {}
      },
      "source": [
        "Y_input= tf.keras.utils.to_categorical(y_train[:50000])\n",
        "X_input= (x_train[:50000]  / 255.0)\n",
        "\n",
        "\n",
        "X_test= (x_test[:10000] /255.0)\n",
        "Y_test= tf.keras.utils.to_categorical(y_test[:10000])\n",
        "\n",
        "#Divide the training data to train data an validation data\n",
        "X_train, X_val, Y_train, Y_val = train_test_split(X_input, Y_input, test_size = 0.2)"
      ],
      "execution_count": 0,
      "outputs": []
    },
    {
      "cell_type": "markdown",
      "metadata": {
        "colab_type": "text",
        "id": "bp_HciV2GVLG"
      },
      "source": [
        "## Creating the sequential model"
      ]
    },
    {
      "cell_type": "code",
      "metadata": {
        "colab_type": "code",
        "id": "-z90d3mTIsAO",
        "colab": {
          "base_uri": "https://localhost:8080/",
          "height": 272
        },
        "outputId": "bf8f4baa-dc07-429a-9b77-bd70f65a9603"
      },
      "source": [
        "# Initialize the model object\n",
        "#Creating the sequential model\n",
        "model = Sequential()\n",
        "\n",
        "#Add two convolutional layers 64C3-P2 followed by pooling layer\n",
        "model.add(Conv2D(filters=32, kernel_size=3,activation= 'relu',input_shape=(32,32,3),padding='same'))\n",
        "model.add(Conv2D(filters=32, kernel_size=3,activation= 'relu',padding='same'))\n",
        "model.add(MaxPool2D())\n",
        "\n",
        "#Add 40% dropout\n",
        "model.add(Dropout(0.4))\n",
        "\n",
        "\n",
        "#Add two convolutional layers 64C3-P2 followed by pooling layer\n",
        "model.add(Conv2D(filters=64, kernel_size=3,activation= 'relu',padding='same'))\n",
        "model.add(Conv2D(filters=64,kernel_size=3,activation= 'relu',padding='same'))\n",
        "model.add(MaxPool2D())\n",
        "\n",
        "#Add 40% dropout\n",
        "model.add(Dropout(0.4))\n",
        "\n",
        "# Flatten the output of the convolutional layer\n",
        "model.add(Flatten())\n",
        "\n",
        "# Add a dense layer with 64 units\n",
        "model.add(Dense(64,activation= 'relu'))\n",
        "\n",
        "#Add dropout\n",
        "model.add(Dropout(0.4))\n",
        "\n",
        "# Add an output layer for the two categories using softmax \n",
        "model.add(Dense(2,activation= 'softmax'))\n",
        "\n"
      ],
      "execution_count": 6,
      "outputs": [
        {
          "output_type": "stream",
          "text": [
            "WARNING: Logging before flag parsing goes to stderr.\n",
            "W0719 01:18:25.298271 139993977952128 deprecation_wrapper.py:119] From /usr/local/lib/python3.6/dist-packages/keras/backend/tensorflow_backend.py:74: The name tf.get_default_graph is deprecated. Please use tf.compat.v1.get_default_graph instead.\n",
            "\n",
            "W0719 01:18:25.302964 139993977952128 deprecation_wrapper.py:119] From /usr/local/lib/python3.6/dist-packages/keras/backend/tensorflow_backend.py:517: The name tf.placeholder is deprecated. Please use tf.compat.v1.placeholder instead.\n",
            "\n",
            "W0719 01:18:25.314035 139993977952128 deprecation_wrapper.py:119] From /usr/local/lib/python3.6/dist-packages/keras/backend/tensorflow_backend.py:4138: The name tf.random_uniform is deprecated. Please use tf.random.uniform instead.\n",
            "\n",
            "W0719 01:18:25.363781 139993977952128 deprecation_wrapper.py:119] From /usr/local/lib/python3.6/dist-packages/keras/backend/tensorflow_backend.py:3976: The name tf.nn.max_pool is deprecated. Please use tf.nn.max_pool2d instead.\n",
            "\n",
            "W0719 01:18:25.368190 139993977952128 deprecation_wrapper.py:119] From /usr/local/lib/python3.6/dist-packages/keras/backend/tensorflow_backend.py:133: The name tf.placeholder_with_default is deprecated. Please use tf.compat.v1.placeholder_with_default instead.\n",
            "\n",
            "W0719 01:18:25.380868 139993977952128 deprecation.py:506] From /usr/local/lib/python3.6/dist-packages/keras/backend/tensorflow_backend.py:3445: calling dropout (from tensorflow.python.ops.nn_ops) with keep_prob is deprecated and will be removed in a future version.\n",
            "Instructions for updating:\n",
            "Please use `rate` instead of `keep_prob`. Rate should be set to `rate = 1 - keep_prob`.\n"
          ],
          "name": "stderr"
        }
      ]
    },
    {
      "cell_type": "markdown",
      "metadata": {
        "colab_type": "text",
        "id": "7821RL9mGcJL"
      },
      "source": [
        "## Compilation and training\n"
      ]
    },
    {
      "cell_type": "code",
      "metadata": {
        "id": "FA76xcg-HA4R",
        "colab_type": "code",
        "colab": {
          "base_uri": "https://localhost:8080/",
          "height": 154
        },
        "outputId": "e5313678-9b74-4373-846a-c004015c8b7a"
      },
      "source": [
        "# compile the model\n",
        "model.compile(optimizer= 'rmsprop', \n",
        "              loss='binary_crossentropy', \n",
        "              metrics=['accuracy'])"
      ],
      "execution_count": 7,
      "outputs": [
        {
          "output_type": "stream",
          "text": [
            "W0719 01:18:25.518596 139993977952128 deprecation_wrapper.py:119] From /usr/local/lib/python3.6/dist-packages/keras/optimizers.py:790: The name tf.train.Optimizer is deprecated. Please use tf.compat.v1.train.Optimizer instead.\n",
            "\n",
            "W0719 01:18:25.546521 139993977952128 deprecation_wrapper.py:119] From /usr/local/lib/python3.6/dist-packages/keras/backend/tensorflow_backend.py:3376: The name tf.log is deprecated. Please use tf.math.log instead.\n",
            "\n",
            "W0719 01:18:25.555180 139993977952128 deprecation.py:323] From /usr/local/lib/python3.6/dist-packages/tensorflow/python/ops/nn_impl.py:180: add_dispatch_support.<locals>.wrapper (from tensorflow.python.ops.array_ops) is deprecated and will be removed in a future version.\n",
            "Instructions for updating:\n",
            "Use tf.where in 2.0, which has the same broadcast rule as np.where\n"
          ],
          "name": "stderr"
        }
      ]
    },
    {
      "cell_type": "code",
      "metadata": {
        "colab_type": "code",
        "id": "e5V3BRCWIp6k",
        "colab": {}
      },
      "source": [
        "#Use learning rate scheduler\n",
        "annealer = LearningRateScheduler(lambda x: 1e-3 * 0.95 ** x, verbose=0)\n",
        "styles=[':','-.','--','-',':','-.','--','-',':','-.','--','-']"
      ],
      "execution_count": 0,
      "outputs": []
    },
    {
      "cell_type": "code",
      "metadata": {
        "colab_type": "code",
        "id": "vwwXUY71I7PR",
        "scrolled": true,
        "outputId": "16038ae5-eec5-4f49-dc4d-c8a793752863",
        "colab": {
          "base_uri": "https://localhost:8080/",
          "height": 1000
        }
      },
      "source": [
        "# train the model\n",
        "model.fit(X_train, Y_train,validation_data = (X_val,Y_val), epochs=50, batch_size=128,callbacks=[annealer], verbose=1)"
      ],
      "execution_count": 9,
      "outputs": [
        {
          "output_type": "stream",
          "text": [
            "Train on 40000 samples, validate on 10000 samples\n",
            "Epoch 1/50\n",
            "40000/40000 [==============================] - 16s 396us/step - loss: 0.4161 - acc: 0.8151 - val_loss: 0.4612 - val_acc: 0.8202\n",
            "Epoch 2/50\n",
            "40000/40000 [==============================] - 10s 245us/step - loss: 0.2663 - acc: 0.8938 - val_loss: 0.2562 - val_acc: 0.8953\n",
            "Epoch 3/50\n",
            "40000/40000 [==============================] - 10s 245us/step - loss: 0.2293 - acc: 0.9118 - val_loss: 0.2356 - val_acc: 0.9060\n",
            "Epoch 4/50\n",
            "40000/40000 [==============================] - 10s 245us/step - loss: 0.2066 - acc: 0.9188 - val_loss: 0.2001 - val_acc: 0.9179\n",
            "Epoch 5/50\n",
            "40000/40000 [==============================] - 10s 244us/step - loss: 0.1919 - acc: 0.9266 - val_loss: 0.1758 - val_acc: 0.9304\n",
            "Epoch 6/50\n",
            "40000/40000 [==============================] - 10s 245us/step - loss: 0.1822 - acc: 0.9306 - val_loss: 0.1763 - val_acc: 0.9303\n",
            "Epoch 7/50\n",
            "40000/40000 [==============================] - 10s 244us/step - loss: 0.1704 - acc: 0.9346 - val_loss: 0.1731 - val_acc: 0.9383\n",
            "Epoch 8/50\n",
            "40000/40000 [==============================] - 10s 245us/step - loss: 0.1630 - acc: 0.9386 - val_loss: 0.1593 - val_acc: 0.9397\n",
            "Epoch 9/50\n",
            "40000/40000 [==============================] - 10s 243us/step - loss: 0.1546 - acc: 0.9409 - val_loss: 0.1512 - val_acc: 0.9404\n",
            "Epoch 10/50\n",
            "40000/40000 [==============================] - 10s 244us/step - loss: 0.1493 - acc: 0.9433 - val_loss: 0.1468 - val_acc: 0.9439\n",
            "Epoch 11/50\n",
            "40000/40000 [==============================] - 10s 243us/step - loss: 0.1423 - acc: 0.9455 - val_loss: 0.1465 - val_acc: 0.9453\n",
            "Epoch 12/50\n",
            "40000/40000 [==============================] - 10s 245us/step - loss: 0.1355 - acc: 0.9487 - val_loss: 0.1379 - val_acc: 0.9456\n",
            "Epoch 13/50\n",
            "40000/40000 [==============================] - 10s 245us/step - loss: 0.1341 - acc: 0.9480 - val_loss: 0.1469 - val_acc: 0.9450\n",
            "Epoch 14/50\n",
            "40000/40000 [==============================] - 10s 249us/step - loss: 0.1292 - acc: 0.9513 - val_loss: 0.1504 - val_acc: 0.9449\n",
            "Epoch 15/50\n",
            "40000/40000 [==============================] - 10s 245us/step - loss: 0.1247 - acc: 0.9535 - val_loss: 0.1461 - val_acc: 0.9482\n",
            "Epoch 16/50\n",
            "40000/40000 [==============================] - 10s 245us/step - loss: 0.1214 - acc: 0.9543 - val_loss: 0.1436 - val_acc: 0.9435\n",
            "Epoch 17/50\n",
            "40000/40000 [==============================] - 10s 244us/step - loss: 0.1172 - acc: 0.9564 - val_loss: 0.1305 - val_acc: 0.9502\n",
            "Epoch 18/50\n",
            "40000/40000 [==============================] - 10s 245us/step - loss: 0.1155 - acc: 0.9564 - val_loss: 0.1319 - val_acc: 0.9521\n",
            "Epoch 19/50\n",
            "40000/40000 [==============================] - 10s 244us/step - loss: 0.1114 - acc: 0.9569 - val_loss: 0.1429 - val_acc: 0.9491\n",
            "Epoch 20/50\n",
            "40000/40000 [==============================] - 10s 245us/step - loss: 0.1114 - acc: 0.9585 - val_loss: 0.1348 - val_acc: 0.9522\n",
            "Epoch 21/50\n",
            "40000/40000 [==============================] - 10s 244us/step - loss: 0.1087 - acc: 0.9594 - val_loss: 0.1359 - val_acc: 0.9504\n",
            "Epoch 22/50\n",
            "40000/40000 [==============================] - 10s 246us/step - loss: 0.1059 - acc: 0.9592 - val_loss: 0.1346 - val_acc: 0.9506\n",
            "Epoch 23/50\n",
            "40000/40000 [==============================] - 10s 244us/step - loss: 0.1016 - acc: 0.9617 - val_loss: 0.1312 - val_acc: 0.9539\n",
            "Epoch 24/50\n",
            "40000/40000 [==============================] - 10s 244us/step - loss: 0.1021 - acc: 0.9612 - val_loss: 0.1294 - val_acc: 0.9543\n",
            "Epoch 25/50\n",
            "40000/40000 [==============================] - 10s 243us/step - loss: 0.1013 - acc: 0.9620 - val_loss: 0.1276 - val_acc: 0.9530\n",
            "Epoch 26/50\n",
            "40000/40000 [==============================] - 10s 245us/step - loss: 0.0960 - acc: 0.9637 - val_loss: 0.1333 - val_acc: 0.9502\n",
            "Epoch 27/50\n",
            "40000/40000 [==============================] - 10s 241us/step - loss: 0.0940 - acc: 0.9645 - val_loss: 0.1209 - val_acc: 0.9557\n",
            "Epoch 28/50\n",
            "40000/40000 [==============================] - 10s 239us/step - loss: 0.0944 - acc: 0.9644 - val_loss: 0.1459 - val_acc: 0.9499\n",
            "Epoch 29/50\n",
            "40000/40000 [==============================] - 10s 240us/step - loss: 0.0910 - acc: 0.9653 - val_loss: 0.1283 - val_acc: 0.9557\n",
            "Epoch 30/50\n",
            "40000/40000 [==============================] - 10s 240us/step - loss: 0.0906 - acc: 0.9660 - val_loss: 0.1184 - val_acc: 0.9591\n",
            "Epoch 31/50\n",
            "40000/40000 [==============================] - 10s 239us/step - loss: 0.0881 - acc: 0.9674 - val_loss: 0.1196 - val_acc: 0.9572\n",
            "Epoch 32/50\n",
            "40000/40000 [==============================] - 10s 239us/step - loss: 0.0850 - acc: 0.9678 - val_loss: 0.1229 - val_acc: 0.9577\n",
            "Epoch 33/50\n",
            "40000/40000 [==============================] - 10s 240us/step - loss: 0.0853 - acc: 0.9681 - val_loss: 0.1263 - val_acc: 0.9549\n",
            "Epoch 34/50\n",
            "40000/40000 [==============================] - 10s 239us/step - loss: 0.0830 - acc: 0.9688 - val_loss: 0.1198 - val_acc: 0.9574\n",
            "Epoch 35/50\n",
            "40000/40000 [==============================] - 10s 240us/step - loss: 0.0829 - acc: 0.9683 - val_loss: 0.1294 - val_acc: 0.9561\n",
            "Epoch 36/50\n",
            "40000/40000 [==============================] - 10s 239us/step - loss: 0.0829 - acc: 0.9691 - val_loss: 0.1154 - val_acc: 0.9590\n",
            "Epoch 37/50\n",
            "40000/40000 [==============================] - 10s 238us/step - loss: 0.0802 - acc: 0.9707 - val_loss: 0.1212 - val_acc: 0.9569\n",
            "Epoch 38/50\n",
            "40000/40000 [==============================] - 10s 238us/step - loss: 0.0793 - acc: 0.9704 - val_loss: 0.1232 - val_acc: 0.9575\n",
            "Epoch 39/50\n",
            "40000/40000 [==============================] - 10s 239us/step - loss: 0.0794 - acc: 0.9704 - val_loss: 0.1252 - val_acc: 0.9577\n",
            "Epoch 40/50\n",
            "40000/40000 [==============================] - 10s 239us/step - loss: 0.0797 - acc: 0.9697 - val_loss: 0.1294 - val_acc: 0.9585\n",
            "Epoch 41/50\n",
            "40000/40000 [==============================] - 10s 239us/step - loss: 0.0764 - acc: 0.9715 - val_loss: 0.1191 - val_acc: 0.9590\n",
            "Epoch 42/50\n",
            "40000/40000 [==============================] - 10s 240us/step - loss: 0.0750 - acc: 0.9723 - val_loss: 0.1200 - val_acc: 0.9603\n",
            "Epoch 43/50\n",
            "40000/40000 [==============================] - 10s 239us/step - loss: 0.0770 - acc: 0.9716 - val_loss: 0.1220 - val_acc: 0.9578\n",
            "Epoch 44/50\n",
            "40000/40000 [==============================] - 10s 238us/step - loss: 0.0741 - acc: 0.9726 - val_loss: 0.1202 - val_acc: 0.9600\n",
            "Epoch 45/50\n",
            "40000/40000 [==============================] - 10s 240us/step - loss: 0.0736 - acc: 0.9718 - val_loss: 0.1224 - val_acc: 0.9600\n",
            "Epoch 46/50\n",
            "40000/40000 [==============================] - 10s 241us/step - loss: 0.0754 - acc: 0.9719 - val_loss: 0.1191 - val_acc: 0.9584\n",
            "Epoch 47/50\n",
            "40000/40000 [==============================] - 10s 240us/step - loss: 0.0730 - acc: 0.9731 - val_loss: 0.1219 - val_acc: 0.9576\n",
            "Epoch 48/50\n",
            "40000/40000 [==============================] - 10s 240us/step - loss: 0.0703 - acc: 0.9736 - val_loss: 0.1163 - val_acc: 0.9609\n",
            "Epoch 49/50\n",
            "40000/40000 [==============================] - 10s 240us/step - loss: 0.0720 - acc: 0.9733 - val_loss: 0.1191 - val_acc: 0.9594\n",
            "Epoch 50/50\n",
            "40000/40000 [==============================] - 10s 240us/step - loss: 0.0695 - acc: 0.9731 - val_loss: 0.1220 - val_acc: 0.9593\n"
          ],
          "name": "stdout"
        },
        {
          "output_type": "execute_result",
          "data": {
            "text/plain": [
              "<keras.callbacks.History at 0x7f528f27a1d0>"
            ]
          },
          "metadata": {
            "tags": []
          },
          "execution_count": 9
        }
      ]
    },
    {
      "cell_type": "markdown",
      "metadata": {
        "colab_type": "text",
        "id": "jLEGv0krGk_i"
      },
      "source": [
        "##Assessing the accuracy"
      ]
    },
    {
      "cell_type": "code",
      "metadata": {
        "colab_type": "code",
        "id": "qAvKjNfOI7lm",
        "outputId": "d5b3bbf8-ccf7-4596-e966-9c1b042efd05",
        "colab": {
          "base_uri": "https://localhost:8080/",
          "height": 50
        }
      },
      "source": [
        "#Evaluate on test data \n",
        "model.evaluate(X_test, Y_test, batch_size= 128)"
      ],
      "execution_count": 10,
      "outputs": [
        {
          "output_type": "stream",
          "text": [
            "10000/10000 [==============================] - 1s 90us/step\n"
          ],
          "name": "stdout"
        },
        {
          "output_type": "execute_result",
          "data": {
            "text/plain": [
              "[0.11430236555337905, 0.9603]"
            ]
          },
          "metadata": {
            "tags": []
          },
          "execution_count": 10
        }
      ]
    },
    {
      "cell_type": "code",
      "metadata": {
        "colab_type": "code",
        "id": "Nw_ybWyQJS5k",
        "colab": {
          "base_uri": "https://localhost:8080/",
          "height": 373
        },
        "outputId": "ec327703-4955-4a2e-b3a4-f7198eb2252f"
      },
      "source": [
        "##Testing a single image\n",
        "i=840\n",
        "\n",
        "label = y_test[i]\n",
        "image = x_test[i]\n",
        "plt.figure(figsize=(2,2))\n",
        "plt.grid(False)\n",
        "plt.title('True: %s, Predicted: %s (%d%% certainty)' % (labels[int(label)],labels[y_prob[i].argmax()],100*y_prob[i,y_prob[i].argmax()]))\n",
        "plt.imshow(image)\n",
        "plt.show()"
      ],
      "execution_count": 11,
      "outputs": [
        {
          "output_type": "error",
          "ename": "NameError",
          "evalue": "ignored",
          "traceback": [
            "\u001b[0;31m---------------------------------------------------------------------------\u001b[0m",
            "\u001b[0;31mNameError\u001b[0m                                 Traceback (most recent call last)",
            "\u001b[0;32m<ipython-input-11-f0fea39fdfe2>\u001b[0m in \u001b[0;36m<module>\u001b[0;34m()\u001b[0m\n\u001b[1;32m      5\u001b[0m \u001b[0mplt\u001b[0m\u001b[0;34m.\u001b[0m\u001b[0mfigure\u001b[0m\u001b[0;34m(\u001b[0m\u001b[0mfigsize\u001b[0m\u001b[0;34m=\u001b[0m\u001b[0;34m(\u001b[0m\u001b[0;36m2\u001b[0m\u001b[0;34m,\u001b[0m\u001b[0;36m2\u001b[0m\u001b[0;34m)\u001b[0m\u001b[0;34m)\u001b[0m\u001b[0;34m\u001b[0m\u001b[0;34m\u001b[0m\u001b[0m\n\u001b[1;32m      6\u001b[0m \u001b[0mplt\u001b[0m\u001b[0;34m.\u001b[0m\u001b[0mgrid\u001b[0m\u001b[0;34m(\u001b[0m\u001b[0;32mFalse\u001b[0m\u001b[0;34m)\u001b[0m\u001b[0;34m\u001b[0m\u001b[0;34m\u001b[0m\u001b[0m\n\u001b[0;32m----> 7\u001b[0;31m \u001b[0mplt\u001b[0m\u001b[0;34m.\u001b[0m\u001b[0mtitle\u001b[0m\u001b[0;34m(\u001b[0m\u001b[0;34m'True: %s, Predicted: %s (%d%% certainty)'\u001b[0m \u001b[0;34m%\u001b[0m \u001b[0;34m(\u001b[0m\u001b[0mlabels\u001b[0m\u001b[0;34m[\u001b[0m\u001b[0mint\u001b[0m\u001b[0;34m(\u001b[0m\u001b[0mlabel\u001b[0m\u001b[0;34m)\u001b[0m\u001b[0;34m]\u001b[0m\u001b[0;34m,\u001b[0m\u001b[0mlabels\u001b[0m\u001b[0;34m[\u001b[0m\u001b[0my_prob\u001b[0m\u001b[0;34m[\u001b[0m\u001b[0mi\u001b[0m\u001b[0;34m]\u001b[0m\u001b[0;34m.\u001b[0m\u001b[0margmax\u001b[0m\u001b[0;34m(\u001b[0m\u001b[0;34m)\u001b[0m\u001b[0;34m]\u001b[0m\u001b[0;34m,\u001b[0m\u001b[0;36m100\u001b[0m\u001b[0;34m*\u001b[0m\u001b[0my_prob\u001b[0m\u001b[0;34m[\u001b[0m\u001b[0mi\u001b[0m\u001b[0;34m,\u001b[0m\u001b[0my_prob\u001b[0m\u001b[0;34m[\u001b[0m\u001b[0mi\u001b[0m\u001b[0;34m]\u001b[0m\u001b[0;34m.\u001b[0m\u001b[0margmax\u001b[0m\u001b[0;34m(\u001b[0m\u001b[0;34m)\u001b[0m\u001b[0;34m]\u001b[0m\u001b[0;34m)\u001b[0m\u001b[0;34m)\u001b[0m\u001b[0;34m\u001b[0m\u001b[0;34m\u001b[0m\u001b[0m\n\u001b[0m\u001b[1;32m      8\u001b[0m \u001b[0mplt\u001b[0m\u001b[0;34m.\u001b[0m\u001b[0mimshow\u001b[0m\u001b[0;34m(\u001b[0m\u001b[0mimage\u001b[0m\u001b[0;34m)\u001b[0m\u001b[0;34m\u001b[0m\u001b[0;34m\u001b[0m\u001b[0m\n\u001b[1;32m      9\u001b[0m \u001b[0mplt\u001b[0m\u001b[0;34m.\u001b[0m\u001b[0mshow\u001b[0m\u001b[0;34m(\u001b[0m\u001b[0;34m)\u001b[0m\u001b[0;34m\u001b[0m\u001b[0;34m\u001b[0m\u001b[0m\n",
            "\u001b[0;31mNameError\u001b[0m: name 'y_prob' is not defined"
          ]
        },
        {
          "output_type": "display_data",
          "data": {
            "image/png": "[encoded data removed]",
            "text/plain": [
              "<Figure size 144x144 with 1 Axes>"
            ]
          },
          "metadata": {
            "tags": []
          }
        }
      ]
    }
  ]
}